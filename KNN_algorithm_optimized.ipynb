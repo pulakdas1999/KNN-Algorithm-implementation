{
  "nbformat": 4,
  "nbformat_minor": 0,
  "metadata": {
    "colab": {
      "provenance": []
    },
    "kernelspec": {
      "name": "python3",
      "display_name": "Python 3"
    },
    "language_info": {
      "name": "python"
    }
  },
  "cells": [
    {
      "cell_type": "code",
      "execution_count": 1,
      "metadata": {
        "id": "luaoQiyFd0nB"
      },
      "outputs": [],
      "source": [
        "from sklearn.datasets import load_iris\n",
        "from sklearn.model_selection import train_test_split\n",
        "X, y = load_iris(return_X_y=True)\n",
        "X_train, X_test, y_train, y_test = train_test_split(X, y, random_state=104, test_size=0.25, shuffle=True)"
      ]
    },
    {
      "cell_type": "code",
      "source": [
        "import numpy as np\n",
        "class KNN:\n",
        "  def __init__(self, K) -> None:\n",
        "    self.n_neighbors = K\n",
        "\n",
        "  def findDistance(self, array1, array2):\n",
        "    # Finding Euclidean Distance\n",
        "    point1 = np.array(array1)\n",
        "    point2 = np.array(array2)\n",
        "\n",
        "    dist = np.linalg.norm(point1 - point2)\n",
        "    return dist\n",
        "\n",
        "  def minValueIndex(self, array):\n",
        "    x = np.array(array)\n",
        "    res = np.argmin(x)\n",
        "    array[res] = float('inf')\n",
        "    return res\n",
        "\n",
        "  def predict(self, unknown, dataset, knownClasses):\n",
        "    distanceArray = []\n",
        "    for i in range(len(dataset)):\n",
        "      distanceArray.append(self.findDistance(unknown, dataset[i]))\n",
        "\n",
        "    closestDisInd = []\n",
        "    for i in range(self.n_neighbors):\n",
        "      closestDisInd.append(self.minValueIndex(distanceArray))\n",
        "\n",
        "    res = {}\n",
        "    for i in closestDisInd:\n",
        "      if knownClasses[i] not in res:\n",
        "        res[knownClasses[i]] = 1\n",
        "      else:\n",
        "        res[knownClasses[i]] += 1\n",
        "    print(res)\n",
        "\n",
        "    myKeys = list(res.keys())\n",
        "    mx = max(myKeys)\n",
        "    return mx"
      ],
      "metadata": {
        "id": "XIT1RpNkd7G0"
      },
      "execution_count": 8,
      "outputs": []
    },
    {
      "cell_type": "code",
      "source": [
        "knn = KNN(5)\n",
        "predicted = []\n",
        "for i in X_test:\n",
        "  #knn.predict(X[100], X, y)\n",
        "  predicted.append(knn.predict(i, X_train, y_train))\n",
        "print(predicted)"
      ],
      "metadata": {
        "colab": {
          "base_uri": "https://localhost:8080/"
        },
        "id": "9grc2KgbeA9t",
        "outputId": "f7000418-accc-40ae-dfc1-71d23caee5a3"
      },
      "execution_count": 9,
      "outputs": [
        {
          "output_type": "stream",
          "name": "stdout",
          "text": [
            "{0: 5}\n",
            "{0: 5}\n",
            "{0: 5}\n",
            "{1: 5}\n",
            "{2: 4, 1: 1}\n",
            "{1: 2, 2: 3}\n",
            "{1: 5}\n",
            "{2: 5}\n",
            "{1: 5}\n",
            "{0: 5}\n",
            "{0: 5}\n",
            "{1: 5}\n",
            "{1: 5}\n",
            "{2: 5}\n",
            "{1: 5}\n",
            "{0: 5}\n",
            "{1: 5}\n",
            "{1: 5}\n",
            "{2: 5}\n",
            "{0: 5}\n",
            "{1: 5}\n",
            "{0: 5}\n",
            "{2: 5}\n",
            "{0: 5}\n",
            "{2: 5}\n",
            "{1: 5}\n",
            "{0: 5}\n",
            "{0: 5}\n",
            "{0: 5}\n",
            "{1: 5}\n",
            "{0: 5}\n",
            "{0: 5}\n",
            "{2: 4, 1: 1}\n",
            "{0: 5}\n",
            "{2: 5}\n",
            "{1: 5}\n",
            "{1: 5}\n",
            "{0: 5}\n",
            "[0, 0, 0, 1, 2, 2, 1, 2, 1, 0, 0, 1, 1, 2, 1, 0, 1, 1, 2, 0, 1, 0, 2, 0, 2, 1, 0, 0, 0, 1, 0, 0, 2, 0, 2, 1, 1, 0]\n"
          ]
        }
      ]
    },
    {
      "cell_type": "code",
      "source": [
        "from sklearn.metrics import precision_recall_fscore_support as score\n",
        "precision, recall, fscore, support = score(y_test, predicted)\n",
        "print(precision, recall, fscore, support, sep=\"\\n\")"
      ],
      "metadata": {
        "id": "kUu8AyhIeEIi",
        "colab": {
          "base_uri": "https://localhost:8080/"
        },
        "outputId": "3cef4b1e-ab9e-4a08-f870-e54d1fe6acf1"
      },
      "execution_count": 10,
      "outputs": [
        {
          "output_type": "stream",
          "name": "stdout",
          "text": [
            "[1.         1.         0.88888889]\n",
            "[1.         0.92857143 1.        ]\n",
            "[1.         0.96296296 0.94117647]\n",
            "[16 14  8]\n"
          ]
        }
      ]
    },
    {
      "cell_type": "code",
      "source": [],
      "metadata": {
        "id": "53k0-oeH7XW2"
      },
      "execution_count": null,
      "outputs": []
    }
  ]
}